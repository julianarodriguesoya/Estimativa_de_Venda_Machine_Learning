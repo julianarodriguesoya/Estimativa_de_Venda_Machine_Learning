{
 "cells": [
  {
   "cell_type": "markdown",
   "id": "8eda0287",
   "metadata": {},
   "source": [
    "# Estimativa de Venda com Machine Learning\n"
   ]
  },
  {
   "cell_type": "markdown",
   "id": "b7571168",
   "metadata": {},
   "source": [
    "# O objetivo deste notebook é a prática do conteúdo apresentado pelo curso da hastag treinamentos para aprendizagem do uso de Machine Learning.\n"
   ]
  },
  {
   "cell_type": "markdown",
   "id": "245350dd",
   "metadata": {},
   "source": [
    "# Pergunta a ser respondida:Será investido 75k em marketing, qual deve ser o estoque enviado para a loja?"
   ]
  },
  {
   "cell_type": "markdown",
   "id": "c5ba19a9",
   "metadata": {},
   "source": [
    "# Importando a base de vendas"
   ]
  },
  {
   "cell_type": "code",
   "execution_count": 26,
   "id": "d85d2d6b",
   "metadata": {},
   "outputs": [],
   "source": [
    "#bibliotecas usadas\n",
    "\n",
    "import pandas as pd\n",
    "import matplotlib.pyplot as plt\n",
    "import numpy as np\n"
   ]
  },
  {
   "cell_type": "code",
   "execution_count": 27,
   "id": "01ad77d1",
   "metadata": {},
   "outputs": [],
   "source": [
    "# importar a base de vendas\n",
    "base = pd.read_excel (\"Investimento_x_Venda.xlsx\")\n"
   ]
  },
  {
   "cell_type": "code",
   "execution_count": 28,
   "id": "1df4e561",
   "metadata": {},
   "outputs": [
    {
     "data": {
      "text/html": [
       "<div>\n",
       "<style scoped>\n",
       "    .dataframe tbody tr th:only-of-type {\n",
       "        vertical-align: middle;\n",
       "    }\n",
       "\n",
       "    .dataframe tbody tr th {\n",
       "        vertical-align: top;\n",
       "    }\n",
       "\n",
       "    .dataframe thead th {\n",
       "        text-align: right;\n",
       "    }\n",
       "</style>\n",
       "<table border=\"1\" class=\"dataframe\">\n",
       "  <thead>\n",
       "    <tr style=\"text-align: right;\">\n",
       "      <th></th>\n",
       "      <th>Investimento em marketing</th>\n",
       "      <th>Venda Qtd</th>\n",
       "    </tr>\n",
       "  </thead>\n",
       "  <tbody>\n",
       "    <tr>\n",
       "      <th>0</th>\n",
       "      <td>20</td>\n",
       "      <td>118</td>\n",
       "    </tr>\n",
       "    <tr>\n",
       "      <th>1</th>\n",
       "      <td>25</td>\n",
       "      <td>142</td>\n",
       "    </tr>\n",
       "    <tr>\n",
       "      <th>2</th>\n",
       "      <td>40</td>\n",
       "      <td>225</td>\n",
       "    </tr>\n",
       "    <tr>\n",
       "      <th>3</th>\n",
       "      <td>52</td>\n",
       "      <td>260</td>\n",
       "    </tr>\n",
       "    <tr>\n",
       "      <th>4</th>\n",
       "      <td>67</td>\n",
       "      <td>295</td>\n",
       "    </tr>\n",
       "  </tbody>\n",
       "</table>\n",
       "</div>"
      ],
      "text/plain": [
       "   Investimento em marketing  Venda Qtd\n",
       "0                         20        118\n",
       "1                         25        142\n",
       "2                         40        225\n",
       "3                         52        260\n",
       "4                         67        295"
      ]
     },
     "execution_count": 28,
     "metadata": {},
     "output_type": "execute_result"
    }
   ],
   "source": [
    "# Exibindo as 5 primeiras linhas\n",
    "base.head()"
   ]
  },
  {
   "cell_type": "code",
   "execution_count": 29,
   "id": "9efdacb6",
   "metadata": {},
   "outputs": [
    {
     "data": {
      "image/png": "[encoded data removed]",
      "text/plain": [
       "<Figure size 432x288 with 1 Axes>"
      ]
     },
     "metadata": {
      "needs_background": "light"
     },
     "output_type": "display_data"
    }
   ],
   "source": [
    "# Visualizando de forma gráfica essas informações\n",
    "plt.scatter(base[\"Investimento em marketing\"], base [\"Venda Qtd\"])\n",
    "plt.show()"
   ]
  },
  {
   "cell_type": "markdown",
   "id": "8769110d",
   "metadata": {},
   "source": [
    "# Traçando uma reta passando por estes pontos"
   ]
  },
  {
   "cell_type": "code",
   "execution_count": 30,
   "id": "4df54096",
   "metadata": {},
   "outputs": [
    {
     "data": {
      "image/png": "[encoded data removed]",
      "text/plain": [
       "<Figure size 432x288 with 1 Axes>"
      ]
     },
     "metadata": {
      "needs_background": "light"
     },
     "output_type": "display_data"
    }
   ],
   "source": [
    "plt.scatter(base[\"Investimento em marketing\"], base  [\"Venda Qtd\"])\n",
    "x0 = base [\"Investimento em marketing\"] [0]\n",
    "y0 = base [\"Venda Qtd\"] [0]\n",
    "x1 = base [\"Investimento em marketing\"][6]\n",
    "y1 = base [\"Venda Qtd\"] [6]\n",
    "plt.plot([x0,x1],[y0,y1],\"r\")\n",
    "plt.show()"
   ]
  },
  {
   "cell_type": "markdown",
   "id": "213de1b4",
   "metadata": {},
   "source": [
    "# Usando a equação da reta para determinar a venda\n",
    "# y=ax+b"
   ]
  },
  {
   "cell_type": "code",
   "execution_count": 23,
   "id": "028d379e",
   "metadata": {},
   "outputs": [],
   "source": [
    "def EncontraY(x_reta,y_reta, x):\n",
    "    a = (y_reta[1] - y_reta[0])/(x_reta[1] - x_reta[0])\n",
    "    b = y_reta[1] - a*x_reta[1]\n",
    "    y = a*x + b\n",
    "    return y"
   ]
  },
  {
   "cell_type": "code",
   "execution_count": 24,
   "id": "f0e4dc68",
   "metadata": {},
   "outputs": [
    {
     "data": {
      "text/plain": [
       "339.8032786885246"
      ]
     },
     "execution_count": 24,
     "metadata": {},
     "output_type": "execute_result"
    }
   ],
   "source": [
    "EncontraY([x0,x1],[y0,y1],75)"
   ]
  },
  {
   "cell_type": "markdown",
   "id": "a101a9ea",
   "metadata": {},
   "source": [
    "# Descobrindo a Venda usando Machine Learning\n"
   ]
  },
  {
   "cell_type": "code",
   "execution_count": null,
   "id": "12f4e72b",
   "metadata": {},
   "outputs": [],
   "source": []
  }
 ],
 "metadata": {
  "kernelspec": {
   "display_name": "Python 3",
   "language": "python",
   "name": "python3"
  },
  "language_info": {
   "codemirror_mode": {
    "name": "ipython",
    "version": 3
   },
   "file_extension": ".py",
   "mimetype": "text/x-python",
   "name": "python",
   "nbconvert_exporter": "python",
   "pygments_lexer": "ipython3",
   "version": "3.8.8"
  }
 },
 "nbformat": 4,
 "nbformat_minor": 5
}
